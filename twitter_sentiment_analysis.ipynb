{
  "nbformat": 4,
  "nbformat_minor": 0,
  "metadata": {
    "kernelspec": {
      "display_name": "Python 3",
      "language": "python",
      "name": "python3"
    },
    "language_info": {
      "codemirror_mode": {
        "name": "ipython",
        "version": 3
      },
      "file_extension": ".py",
      "mimetype": "text/x-python",
      "name": "python",
      "nbconvert_exporter": "python",
      "pygments_lexer": "ipython3",
      "version": "3.7.4"
    },
    "colab": {
      "name": "twitter sentiment analysis.ipynb",
      "provenance": []
    }
  },
  "cells": [
    {
      "cell_type": "code",
      "metadata": {
        "id": "kLuRkZRRChmv"
      },
      "source": [
        "import re \n",
        "import tweepy \n",
        "from tweepy import OAuthHandler \n",
        "from textblob import TextBlob "
      ],
      "execution_count": null,
      "outputs": []
    },
    {
      "cell_type": "code",
      "metadata": {
        "id": "kmldV2p0Chmy"
      },
      "source": [
        "consumer_key = 'XXXXXXXXXXXXXXXXXXXXXXXX'\n",
        "consumer_secret = 'XXXXXXXXXXXXXXXXXXXXXXXXXXXX'   \n",
        "access_token = 'XXXXXXXXXXXXXXXXXXXXXXXXXXXX'\n",
        "access_token_secret = 'XXXXXXXXXXXXXXXXXXXXXXXXX'"
      ],
      "execution_count": null,
      "outputs": []
    },
    {
      "cell_type": "code",
      "metadata": {
        "id": "8nUdmHBrChmz",
        "outputId": "fcb8dfd7-1181-44e7-ebdb-189460329cf5"
      },
      "source": [
        "try: \n",
        "            # create OAuthHandler object \n",
        "    self.auth = OAuthHandler(consumer_key, consumer_secret) \n",
        "            # set access token and secret \n",
        "    self.auth.set_access_token(access_token, access_token_secret) \n",
        "            # create tweepy API object to fetch tweets \n",
        "    self.api = tweepy.API(self.auth) \n",
        "except: \n",
        "    print(\"Error: Authentication Failed\") "
      ],
      "execution_count": null,
      "outputs": [
        {
          "output_type": "stream",
          "text": [
            "Error: Authentication Failed\n"
          ],
          "name": "stdout"
        }
      ]
    },
    {
      "cell_type": "code",
      "metadata": {
        "id": "FZl4nLNxChm1"
      },
      "source": [
        "tweets = api.search(\"fifa\")\n",
        "for tweet in public_tweets:\n",
        "    print tweet.text"
      ],
      "execution_count": null,
      "outputs": []
    },
    {
      "cell_type": "code",
      "metadata": {
        "id": "W-0_ZG3fChm2"
      },
      "source": [
        "analysis = TextBlob(tweet.text)"
      ],
      "execution_count": null,
      "outputs": []
    },
    {
      "cell_type": "code",
      "metadata": {
        "id": "TtpC1JibChm2"
      },
      "source": [
        "print(analysis.sentiment)"
      ],
      "execution_count": null,
      "outputs": []
    }
  ]
}